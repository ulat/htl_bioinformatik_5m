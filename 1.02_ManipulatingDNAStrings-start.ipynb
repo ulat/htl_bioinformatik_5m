{
  "cells": [
    {
      "cell_type": "code",
      "execution_count": null,
      "metadata": {
        "id": "Kcr-E4plmxUl",
        "outputId": "90efa220-2f6e-4115-89d9-5db41cc36638"
      },
      "outputs": [
        {
          "data": {
            "text/plain": [
              "'ACCA'"
            ]
          },
          "execution_count": 1,
          "metadata": {},
          "output_type": "execute_result"
        }
      ],
      "source": [
        "# Write a function to get the longest common prefix of 2 dna strings\n",
        "def longestCommonPrefix(s1, s2):\n",
        "longestCommonPrefix('ACCATTG', 'ACCAAGTC')"
      ]
    },
    {
      "cell_type": "code",
      "execution_count": null,
      "metadata": {
        "id": "UunaM1vsmxUm",
        "outputId": "c9f3ba40-6027-4076-c708-a40d5a98d5f1"
      },
      "outputs": [
        {
          "data": {
            "text/plain": [
              "True"
            ]
          },
          "execution_count": 2,
          "metadata": {},
          "output_type": "execute_result"
        }
      ],
      "source": [
        "def match(s1, s2):\n",
        "    if not len(s1) == len(s2):\n",
        "        return False\n",
        "    for i in range(0, len(s1)):\n",
        "        if not s1 == s2:\n",
        "            return False\n",
        "    return True\n",
        "match('ACCATTG', 'ACCATTG')"
      ]
    },
    {
      "cell_type": "code",
      "execution_count": null,
      "metadata": {
        "id": "l-sjSEn_mxUn",
        "outputId": "4157a19f-40d6-4209-e06d-c1b41013f2e0"
      },
      "outputs": [
        {
          "data": {
            "text/plain": [
              "True"
            ]
          },
          "execution_count": 3,
          "metadata": {},
          "output_type": "execute_result"
        }
      ],
      "source": [
        "'ACCATTG' == 'ACCATTG'"
      ]
    },
    {
      "cell_type": "code",
      "execution_count": null,
      "metadata": {
        "collapsed": true,
        "id": "Y1Tc7iuYmxUo"
      },
      "outputs": [],
      "source": [
        "complement = {'A': 'T', 'C': 'G', 'G': 'C', 'T': 'A'}"
      ]
    },
    {
      "cell_type": "code",
      "execution_count": null,
      "metadata": {
        "id": "FUaU3_ZLmxUo",
        "outputId": "02c723f4-d67f-4839-b4cc-3cfdf8e5c320"
      },
      "outputs": [
        {
          "data": {
            "text/plain": [
              "'T'"
            ]
          },
          "execution_count": 5,
          "metadata": {},
          "output_type": "execute_result"
        }
      ],
      "source": [
        "complement['A']"
      ]
    },
    {
      "cell_type": "code",
      "execution_count": null,
      "metadata": {
        "id": "_s__gRbXmxUp",
        "outputId": "46433364-09af-4f8f-f5ea-892d8774e078"
      },
      "outputs": [
        {
          "data": {
            "text/plain": [
              "'G'"
            ]
          },
          "execution_count": 6,
          "metadata": {},
          "output_type": "execute_result"
        }
      ],
      "source": [
        "complement['C']"
      ]
    },
    {
      "cell_type": "code",
      "execution_count": null,
      "metadata": {
        "id": "lHa39RDXmxUq",
        "outputId": "b95d6be7-baa3-4d61-db9a-f7a4c6fc200b"
      },
      "outputs": [
        {
          "data": {
            "text/plain": [
              "'CAATGGT'"
            ]
          },
          "execution_count": 7,
          "metadata": {},
          "output_type": "execute_result"
        }
      ],
      "source": [
        "# Write a function the generates the reverse complement of a given dna string, using the complement dictionary\n",
        "def reverseComplement(s):\n",
        "reverseComplement('ACCATTG')"
      ]
    },
    {
      "cell_type": "code",
      "execution_count": null,
      "metadata": {
        "id": "ulxnwqImmxUq",
        "outputId": "9cb3f18e-67b2-4e34-ba45-fdffbed143e5"
      },
      "outputs": [
        {
          "name": "stderr",
          "output_type": "stream",
          "text": [
            "test_notebook (__main__.TestNotebook) ... ERROR\n",
            "\n",
            "======================================================================\n",
            "ERROR: test_notebook (__main__.TestNotebook)\n",
            "----------------------------------------------------------------------\n",
            "Traceback (most recent call last):\n",
            "  File \"<ipython-input-1-525f4a6f2317>\", line 4, in test_notebook\n",
            "    self.assertEquals(longestCommonPrefix('ACCATTG', 'ACCAAGTC'), 'ACCA')\n",
            "NameError: name 'longestCommonPrefix' is not defined\n",
            "\n",
            "----------------------------------------------------------------------\n",
            "Ran 1 test in 0.001s\n",
            "\n",
            "FAILED (errors=1)\n"
          ]
        },
        {
          "data": {
            "text/plain": [
              "<unittest.main.TestProgram at 0x10ee12f60>"
            ]
          },
          "execution_count": 1,
          "metadata": {},
          "output_type": "execute_result"
        }
      ],
      "source": [
        "import unittest\n",
        "class TestNotebook(unittest.TestCase):\n",
        "    def test_notebook(self):\n",
        "        self.assertEqual(longestCommonPrefix('ACCATTG', 'ACCAAGTC'), 'ACCA')\n",
        "        self.assertEqual(reverseComplement('ACCATTG'), 'CAATGGT')\n",
        "\n",
        "unittest.main(argv=[''], verbosity=2, exit=False)"
      ]
    }
  ],
  "metadata": {
    "kernelspec": {
      "display_name": "Python 3",
      "language": "python",
      "name": "python3"
    },
    "language_info": {
      "codemirror_mode": {
        "name": "ipython",
        "version": 3
      },
      "file_extension": ".py",
      "mimetype": "text/x-python",
      "name": "python",
      "nbconvert_exporter": "python",
      "pygments_lexer": "ipython3",
      "version": "3.5.4"
    },
    "colab": {
      "provenance": []
    }
  },
  "nbformat": 4,
  "nbformat_minor": 0
}