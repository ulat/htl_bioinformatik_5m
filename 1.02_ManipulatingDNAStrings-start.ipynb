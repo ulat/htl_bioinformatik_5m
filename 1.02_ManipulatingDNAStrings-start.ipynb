{
  "cells": [
    {
      "cell_type": "code",
      "source": [
        "!pip install pytest ipytest -q"
      ],
      "metadata": {
        "id": "hnOS37Y4MNXS"
      },
      "execution_count": 23,
      "outputs": []
    },
    {
      "cell_type": "code",
      "execution_count": 42,
      "metadata": {
        "id": "Kcr-E4plmxUl"
      },
      "outputs": [],
      "source": [
        "# Write a function to get the longest common prefix of 2 dna strings\n",
        "def longestCommonPrefix(s1, s2):\n",
        "  pass\n",
        "\n",
        "longestCommonPrefix('ACCATTG', 'ACCAAGTC')"
      ]
    },
    {
      "cell_type": "code",
      "execution_count": 43,
      "metadata": {
        "id": "UunaM1vsmxUm",
        "outputId": "9202a32d-f474-4cbc-99e9-ad600535beff",
        "colab": {
          "base_uri": "https://localhost:8080/"
        }
      },
      "outputs": [
        {
          "output_type": "execute_result",
          "data": {
            "text/plain": [
              "True"
            ]
          },
          "metadata": {},
          "execution_count": 43
        }
      ],
      "source": [
        "def match(s1, s2):\n",
        "    if not len(s1) == len(s2):\n",
        "        return False\n",
        "    for i in range(0, len(s1)):\n",
        "        if not s1 == s2:\n",
        "            return False\n",
        "    return True\n",
        "match('ACCATTG', 'ACCATTG')"
      ]
    },
    {
      "cell_type": "code",
      "execution_count": 44,
      "metadata": {
        "id": "l-sjSEn_mxUn",
        "outputId": "66a9e2d9-fc5e-420d-fb21-e303ca6eb996",
        "colab": {
          "base_uri": "https://localhost:8080/"
        }
      },
      "outputs": [
        {
          "output_type": "execute_result",
          "data": {
            "text/plain": [
              "True"
            ]
          },
          "metadata": {},
          "execution_count": 44
        }
      ],
      "source": [
        "'ACCATTG' == 'ACCATTG'"
      ]
    },
    {
      "cell_type": "code",
      "execution_count": 45,
      "metadata": {
        "collapsed": true,
        "id": "Y1Tc7iuYmxUo"
      },
      "outputs": [],
      "source": [
        "complement = {'A': 'T', 'C': 'G', 'G': 'C', 'T': 'A'}"
      ]
    },
    {
      "cell_type": "code",
      "execution_count": 46,
      "metadata": {
        "id": "FUaU3_ZLmxUo",
        "outputId": "5d1f5e89-2bf6-41e8-b7c3-1f1ffc806d07",
        "colab": {
          "base_uri": "https://localhost:8080/",
          "height": 35
        }
      },
      "outputs": [
        {
          "output_type": "execute_result",
          "data": {
            "text/plain": [
              "'T'"
            ],
            "application/vnd.google.colaboratory.intrinsic+json": {
              "type": "string"
            }
          },
          "metadata": {},
          "execution_count": 46
        }
      ],
      "source": [
        "complement['A']"
      ]
    },
    {
      "cell_type": "code",
      "execution_count": 47,
      "metadata": {
        "id": "_s__gRbXmxUp",
        "outputId": "cc550e94-a81d-4223-f7ec-a2951260b24f",
        "colab": {
          "base_uri": "https://localhost:8080/",
          "height": 35
        }
      },
      "outputs": [
        {
          "output_type": "execute_result",
          "data": {
            "text/plain": [
              "'G'"
            ],
            "application/vnd.google.colaboratory.intrinsic+json": {
              "type": "string"
            }
          },
          "metadata": {},
          "execution_count": 47
        }
      ],
      "source": [
        "complement['C']"
      ]
    },
    {
      "cell_type": "code",
      "execution_count": 48,
      "metadata": {
        "id": "lHa39RDXmxUq"
      },
      "outputs": [],
      "source": [
        "# Write a function the generates the reverse complement of a given dna string, using the complement dictionary\n",
        "def reverseComplement(s):\n",
        "    pass\n",
        "\n",
        "reverseComplement('ACCATTG')"
      ]
    },
    {
      "cell_type": "code",
      "source": [
        "import pytest\n",
        "import ipytest\n",
        "ipytest.autoconfig()"
      ],
      "metadata": {
        "id": "PAydh7fFMEiJ"
      },
      "execution_count": 49,
      "outputs": []
    },
    {
      "cell_type": "code",
      "source": [
        "print(longestCommonPrefix('ACCATTG', 'ACCAAGTC'))"
      ],
      "metadata": {
        "id": "XIf9ndooM6V7",
        "outputId": "9238b453-1cb7-4898-a10b-289d4d362812",
        "colab": {
          "base_uri": "https://localhost:8080/"
        }
      },
      "execution_count": 50,
      "outputs": [
        {
          "output_type": "stream",
          "name": "stdout",
          "text": [
            "None\n"
          ]
        }
      ]
    },
    {
      "cell_type": "code",
      "execution_count": 51,
      "metadata": {
        "id": "ulxnwqImmxUq"
      },
      "outputs": [],
      "source": [
        "def test_longestCommonPrefix():\n",
        "  assert (longestCommonPrefix('ACCATTG', 'ACCAAGTC')) == 'ACCA'\n",
        "\n",
        "def test_reverseComplement():\n",
        "  assert reverseComplement('ACCATTG') == 'CAATGGT'\n"
      ]
    },
    {
      "cell_type": "code",
      "source": [
        "ipytest.run('-vv')"
      ],
      "metadata": {
        "colab": {
          "base_uri": "https://localhost:8080/"
        },
        "id": "3op3RvkbK8-4",
        "outputId": "51abf12f-9b24-401b-9970-1cfc45bd08b3"
      },
      "execution_count": 52,
      "outputs": [
        {
          "output_type": "stream",
          "name": "stdout",
          "text": [
            "\u001b[1m======================================= test session starts ========================================\u001b[0m\n",
            "platform linux -- Python 3.12.12, pytest-8.4.2, pluggy-1.6.0 -- /usr/bin/python3\n",
            "cachedir: .pytest_cache\n",
            "rootdir: /content\n",
            "plugins: langsmith-0.4.37, anyio-4.11.0, typeguard-4.4.4\n",
            "\u001b[1mcollecting ... \u001b[0mcollected 2 items\n",
            "\n",
            "t_6d580857a0914cd09373215bfcc187ce.py::test_longestCommonPrefix \u001b[31mFAILED\u001b[0m\u001b[31m                       [ 50%]\u001b[0m\n",
            "t_6d580857a0914cd09373215bfcc187ce.py::test_reverseComplement \u001b[31mFAILED\u001b[0m\u001b[31m                         [100%]\u001b[0m\n",
            "\n",
            "============================================= FAILURES =============================================\n",
            "\u001b[31m\u001b[1m_____________________________________ test_longestCommonPrefix _____________________________________\u001b[0m\n",
            "\n",
            "    \u001b[0m\u001b[94mdef\u001b[39;49;00m\u001b[90m \u001b[39;49;00m\u001b[92mtest_longestCommonPrefix\u001b[39;49;00m():\u001b[90m\u001b[39;49;00m\n",
            ">     \u001b[94massert\u001b[39;49;00m (longestCommonPrefix(\u001b[33m'\u001b[39;49;00m\u001b[33mACCATTG\u001b[39;49;00m\u001b[33m'\u001b[39;49;00m, \u001b[33m'\u001b[39;49;00m\u001b[33mACCAAGTC\u001b[39;49;00m\u001b[33m'\u001b[39;49;00m)) == \u001b[33m'\u001b[39;49;00m\u001b[33mACCA\u001b[39;49;00m\u001b[33m'\u001b[39;49;00m\u001b[90m\u001b[39;49;00m\n",
            "\u001b[1m\u001b[31mE     AssertionError: assert None == 'ACCA'\u001b[0m\n",
            "\u001b[1m\u001b[31mE      +  where None = longestCommonPrefix('ACCATTG', 'ACCAAGTC')\u001b[0m\n",
            "\n",
            "\u001b[1m\u001b[31m/tmp/ipython-input-607012652.py\u001b[0m:2: AssertionError\n",
            "\u001b[31m\u001b[1m______________________________________ test_reverseComplement ______________________________________\u001b[0m\n",
            "\n",
            "    \u001b[0m\u001b[94mdef\u001b[39;49;00m\u001b[90m \u001b[39;49;00m\u001b[92mtest_reverseComplement\u001b[39;49;00m():\u001b[90m\u001b[39;49;00m\n",
            ">     \u001b[94massert\u001b[39;49;00m reverseComplement(\u001b[33m'\u001b[39;49;00m\u001b[33mACCATTG\u001b[39;49;00m\u001b[33m'\u001b[39;49;00m) == \u001b[33m'\u001b[39;49;00m\u001b[33mCAATGGT\u001b[39;49;00m\u001b[33m'\u001b[39;49;00m\u001b[90m\u001b[39;49;00m\n",
            "\u001b[1m\u001b[31mE     AssertionError: assert None == 'CAATGGT'\u001b[0m\n",
            "\u001b[1m\u001b[31mE      +  where None = reverseComplement('ACCATTG')\u001b[0m\n",
            "\n",
            "\u001b[1m\u001b[31m/tmp/ipython-input-607012652.py\u001b[0m:5: AssertionError\n",
            "\u001b[36m\u001b[1m===================================== short test summary info ======================================\u001b[0m\n",
            "\u001b[31mFAILED\u001b[0m t_6d580857a0914cd09373215bfcc187ce.py::\u001b[1mtest_longestCommonPrefix\u001b[0m - AssertionError: assert None == 'ACCA'\n",
            "\u001b[31mFAILED\u001b[0m t_6d580857a0914cd09373215bfcc187ce.py::\u001b[1mtest_reverseComplement\u001b[0m - AssertionError: assert None == 'CAATGGT'\n",
            "\u001b[31m======================================== \u001b[31m\u001b[1m2 failed\u001b[0m\u001b[31m in 0.03s\u001b[0m\u001b[31m =========================================\u001b[0m\n"
          ]
        },
        {
          "output_type": "execute_result",
          "data": {
            "text/plain": [
              "<ExitCode.TESTS_FAILED: 1>"
            ]
          },
          "metadata": {},
          "execution_count": 52
        }
      ]
    },
    {
      "cell_type": "code",
      "source": [],
      "metadata": {
        "id": "aLx1rGwtMvjy"
      },
      "execution_count": null,
      "outputs": []
    }
  ],
  "metadata": {
    "kernelspec": {
      "display_name": "Python 3",
      "language": "python",
      "name": "python3"
    },
    "language_info": {
      "codemirror_mode": {
        "name": "ipython",
        "version": 3
      },
      "file_extension": ".py",
      "mimetype": "text/x-python",
      "name": "python",
      "nbconvert_exporter": "python",
      "pygments_lexer": "ipython3",
      "version": "3.5.4"
    },
    "colab": {
      "provenance": []
    }
  },
  "nbformat": 4,
  "nbformat_minor": 0
}