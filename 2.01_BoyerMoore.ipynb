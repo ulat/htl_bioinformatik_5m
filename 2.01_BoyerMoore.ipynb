{
  "cells": [
    {
      "cell_type": "markdown",
      "metadata": {
        "id": "FihT4vpwoLJO"
      },
      "source": [
        "# Boyer Moore\n",
        "\n",
        "The following gray box contains several functions that preprocess the pattern *P* and create the tables needed to apply the bad character and good suffix rules.  We won't discuss these, but if you are interested, see Chapter 2 of:\n",
        "\n",
        "Gusfield, Dan. Algorithms on strings, trees and sequences: computer science and computational biology. Cambridge university press, 1997."
      ]
    },
    {
      "cell_type": "code",
      "execution_count": 2,
      "metadata": {
        "id": "J6s3Rrb4oLJQ"
      },
      "outputs": [],
      "source": [
        "import string\n",
        "\n",
        "def z_array(s):\n",
        "    \"\"\" Use Z algorithm (Gusfield theorem 1.4.1) to preprocess s \"\"\"\n",
        "    assert len(s) > 1\n",
        "    z = [len(s)] + [0] * (len(s)-1)\n",
        "    # Initial comparison of s[1:] with prefix\n",
        "    for i in range(1, len(s)):\n",
        "        if s[i] == s[i-1]:\n",
        "            z[1] += 1\n",
        "        else:\n",
        "            break\n",
        "    r, l = 0, 0\n",
        "    if z[1] > 0:\n",
        "        r, l = z[1], 1\n",
        "    for k in range(2, len(s)):\n",
        "        assert z[k] == 0\n",
        "        if k > r:\n",
        "            # Case 1\n",
        "            for i in range(k, len(s)):\n",
        "                if s[i] == s[i-k]:\n",
        "                    z[k] += 1\n",
        "                else:\n",
        "                    break\n",
        "            r, l = k + z[k] - 1, k\n",
        "        else:\n",
        "            # Case 2\n",
        "            # Calculate length of beta\n",
        "            nbeta = r - k + 1\n",
        "            zkp = z[k - l]\n",
        "            if nbeta > zkp:\n",
        "                # Case 2a: Zkp wins\n",
        "                z[k] = zkp\n",
        "            else:\n",
        "                # Case 2b: Compare characters just past r\n",
        "                nmatch = 0\n",
        "                for i in range(r+1, len(s)):\n",
        "                    if s[i] == s[i - k]:\n",
        "                        nmatch += 1\n",
        "                    else:\n",
        "                        break\n",
        "                l, r = k, r + nmatch\n",
        "                z[k] = r - k + 1\n",
        "    return z\n",
        "\n",
        "\n",
        "def n_array(s):\n",
        "    \"\"\" Compile the N array (Gusfield theorem 2.2.2) from the Z array \"\"\"\n",
        "    return z_array(s[::-1])[::-1]\n",
        "\n",
        "\n",
        "def big_l_prime_array(p, n):\n",
        "    \"\"\" Compile L' array (Gusfield theorem 2.2.2) using p and N array.\n",
        "        L'[i] = largest index j less than n such that N[j] = |P[i:]| \"\"\"\n",
        "    lp = [0] * len(p)\n",
        "    for j in range(len(p)-1):\n",
        "        i = len(p) - n[j]\n",
        "        if i < len(p):\n",
        "            lp[i] = j + 1\n",
        "    return lp\n",
        "\n",
        "\n",
        "def big_l_array(p, lp):\n",
        "    \"\"\" Compile L array (Gusfield theorem 2.2.2) using p and L' array.\n",
        "        L[i] = largest index j less than n such that N[j] >= |P[i:]| \"\"\"\n",
        "    l = [0] * len(p)\n",
        "    l[1] = lp[1]\n",
        "    for i in range(2, len(p)):\n",
        "        l[i] = max(l[i-1], lp[i])\n",
        "    return l\n",
        "\n",
        "\n",
        "def small_l_prime_array(n):\n",
        "    \"\"\" Compile lp' array (Gusfield theorem 2.2.4) using N array. \"\"\"\n",
        "    small_lp = [0] * len(n)\n",
        "    for i in range(len(n)):\n",
        "        if n[i] == i+1:  # prefix matching a suffix\n",
        "            small_lp[len(n)-i-1] = i+1\n",
        "    for i in range(len(n)-2, -1, -1):  # \"smear\" them out to the left\n",
        "        if small_lp[i] == 0:\n",
        "            small_lp[i] = small_lp[i+1]\n",
        "    return small_lp\n",
        "\n",
        "\n",
        "def good_suffix_table(p):\n",
        "    \"\"\" Return tables needed to apply good suffix rule. \"\"\"\n",
        "    n = n_array(p)\n",
        "    lp = big_l_prime_array(p, n)\n",
        "    return lp, big_l_array(p, lp), small_l_prime_array(n)\n",
        "\n",
        "\n",
        "def good_suffix_mismatch(i, big_l_prime, small_l_prime):\n",
        "    \"\"\" Given a mismatch at offset i, and given L/L' and l' arrays,\n",
        "        return amount to shift as determined by good suffix rule. \"\"\"\n",
        "    length = len(big_l_prime)\n",
        "    assert i < length\n",
        "    if i == length - 1:\n",
        "        return 0\n",
        "    i += 1  # i points to leftmost matching position of P\n",
        "    if big_l_prime[i] > 0:\n",
        "        return length - big_l_prime[i]\n",
        "    return length - small_l_prime[i]\n",
        "\n",
        "\n",
        "def good_suffix_match(small_l_prime):\n",
        "    \"\"\" Given a full match of P to T, return amount to shift as\n",
        "        determined by good suffix rule. \"\"\"\n",
        "    return len(small_l_prime) - small_l_prime[1]\n",
        "\n",
        "\n",
        "def dense_bad_char_tab(p, amap):\n",
        "    \"\"\" Given pattern string and list with ordered alphabet characters, create\n",
        "        and return a dense bad character table.  Table is indexed by offset\n",
        "        then by character. \"\"\"\n",
        "    tab = []\n",
        "    nxt = [0] * len(amap)\n",
        "    for i in range(0, len(p)):\n",
        "        c = p[i]\n",
        "        assert c in amap\n",
        "        tab.append(nxt[:])\n",
        "        nxt[amap[c]] = i+1\n",
        "    return tab\n",
        "\n",
        "\n",
        "class BoyerMoore(object):\n",
        "    \"\"\" Encapsulates pattern and associated Boyer-Moore preprocessing. \"\"\"\n",
        "\n",
        "    def __init__(self, p: str, alphabet: str ='ACGT'):\n",
        "        self.p = p\n",
        "        self.alphabet = alphabet\n",
        "        # Create map from alphabet characters to integers\n",
        "        self.amap = {}\n",
        "        for i in range(len(self.alphabet)):\n",
        "            self.amap[self.alphabet[i]] = i\n",
        "        # Make bad character rule table\n",
        "        self.bad_char = dense_bad_char_tab(p, self.amap)\n",
        "        # Create good suffix rule table\n",
        "        _, self.big_l, self.small_l_prime = good_suffix_table(p)\n",
        "\n",
        "    def bad_character_rule(self, i: int, c: str) -> int:\n",
        "        \"\"\" Return # skips given by bad character rule at offset i \"\"\"\n",
        "        assert c in self.amap\n",
        "        ci = self.amap[c]\n",
        "        assert i > (self.bad_char[i][ci]-1)\n",
        "        return i - (self.bad_char[i][ci]-1)\n",
        "\n",
        "    def good_suffix_rule(self, i: int) -> int:\n",
        "        \"\"\" Given a mismatch at offset i, return amount to shift\n",
        "            as determined by (weak) good suffix rule. \"\"\"\n",
        "        length = len(self.big_l)\n",
        "        assert i < length\n",
        "        if i == length - 1:\n",
        "            return 0\n",
        "        i += 1  # i points to leftmost matching position of P\n",
        "        if self.big_l[i] > 0:\n",
        "            return length - self.big_l[i]\n",
        "        return length - self.small_l_prime[i]\n",
        "\n",
        "    def match_skip(self) -> int:\n",
        "        \"\"\" Return amount to shift in case where P matches T \"\"\"\n",
        "        return len(self.small_l_prime) - self.small_l_prime[1]"
      ]
    },
    {
      "cell_type": "code",
      "execution_count": 3,
      "metadata": {
        "id": "mS7E2DIZoLJS"
      },
      "outputs": [],
      "source": [
        "import unittest\n",
        "import collections\n",
        "class TestMatchingArtificialReads(unittest.TestCase):\n",
        "    def test_boyermoore(self):\n",
        "        t = 'GCTAGCTCTACGAGTCTA'\n",
        "        p = 'CT'\n",
        "        p_bm = BoyerMoore(p, alphabet='ACGT')\n",
        "        self.assertEqual(boyer_moore(p, p_bm, t), [1, 5, 7, 15], 'BoyerMoore Algorithm returned wrong match indices. Should be: [1, 5, 7, 15], values returned: {}'.format(boyer_moore(p, p_bm, t)))"
      ]
    },
    {
      "cell_type": "markdown",
      "metadata": {
        "id": "0uPIK6-AoLJS"
      },
      "source": [
        "## Try the Boyer Moore preprocessings\n",
        "\n",
        "__Let's make sure our rules give the expected results.__"
      ]
    },
    {
      "cell_type": "code",
      "execution_count": 4,
      "metadata": {
        "colab": {
          "base_uri": "https://localhost:8080/"
        },
        "id": "jFWAaQGYoLJT",
        "outputId": "c1aab175-2be8-4b59-f315-4053d184de5e"
      },
      "outputs": [
        {
          "output_type": "execute_result",
          "data": {
            "text/plain": [
              "2"
            ]
          },
          "metadata": {},
          "execution_count": 4
        }
      ],
      "source": [
        "# GCTAGCTCTACGAGTCTA\n",
        "p = 'TCAA'\n",
        "p_bm = BoyerMoore(p, alphabet='ACGT')\n",
        "p_bm.bad_character_rule(2, 'T')"
      ]
    },
    {
      "cell_type": "code",
      "execution_count": 5,
      "metadata": {
        "colab": {
          "base_uri": "https://localhost:8080/"
        },
        "id": "Sg0CPoEUoLJU",
        "outputId": "ffd5a242-f4af-4d8a-b609-09ebd40c006d"
      },
      "outputs": [
        {
          "output_type": "execute_result",
          "data": {
            "text/plain": [
              "3"
            ]
          },
          "metadata": {},
          "execution_count": 5
        }
      ],
      "source": [
        "# GCTAGCTCTACGAGTCTA\n",
        "# ACTA\n",
        "p = 'ACTA'\n",
        "p_bm = BoyerMoore(p, alphabet='ACGT')\n",
        "p_bm.good_suffix_rule(0)"
      ]
    },
    {
      "cell_type": "code",
      "execution_count": 6,
      "metadata": {
        "colab": {
          "base_uri": "https://localhost:8080/"
        },
        "id": "D4ubkV5MoLJU",
        "outputId": "cb8d25e3-2bc5-42b9-887c-145adad9cc1b"
      },
      "outputs": [
        {
          "output_type": "execute_result",
          "data": {
            "text/plain": [
              "2"
            ]
          },
          "metadata": {},
          "execution_count": 6
        }
      ],
      "source": [
        "# ACACGCTCTACGAGTCTA\n",
        "# ACAC\n",
        "p = 'ACAC'\n",
        "p_bm = BoyerMoore(p, alphabet='ACGT')\n",
        "p_bm.match_skip()"
      ]
    },
    {
      "cell_type": "markdown",
      "metadata": {
        "id": "XNrHLfkOoLJU"
      },
      "source": [
        "## Implement Boyer Moore Algorithm\n",
        "\n",
        "__With the Help of the given Preprocessing Class for calculating the look up tables, implement the Boyer Moore Algorithm__"
      ]
    },
    {
      "cell_type": "code",
      "execution_count": 7,
      "metadata": {
        "collapsed": true,
        "colab": {
          "base_uri": "https://localhost:8080/",
          "height": 106
        },
        "id": "gRiBtze2oLJV",
        "outputId": "b850f33d-fa81-4a38-fca9-9feca1d4ab42"
      },
      "outputs": [
        {
          "output_type": "error",
          "ename": "SyntaxError",
          "evalue": "invalid syntax (<ipython-input-7-427409d62292>, line 1)",
          "traceback": [
            "\u001b[0;36m  File \u001b[0;32m\"<ipython-input-7-427409d62292>\"\u001b[0;36m, line \u001b[0;32m1\u001b[0m\n\u001b[0;31m    def boyer_moore(p: str, p_bm: BoyerMoore, : str) -> list:\u001b[0m\n\u001b[0m                                              ^\u001b[0m\n\u001b[0;31mSyntaxError\u001b[0m\u001b[0;31m:\u001b[0m invalid syntax\n"
          ]
        }
      ],
      "source": [
        "def boyer_moore(p: str, p_bm: BoyerMoore, t: str) -> list:\n",
        "    \"\"\" Do Boyer-Moore matching\n",
        "    param p: search pattern\n",
        "    param p_bm: Preprocessing object for boyer moore algorithm\n",
        "    param t: text\n",
        "    returns: list containing the occurences\n",
        "    \"\"\"\n",
        "    i = 0\n",
        "    occurrences = []\n",
        "\n",
        "    return occurrences"
      ]
    },
    {
      "cell_type": "code",
      "execution_count": 8,
      "metadata": {
        "colab": {
          "base_uri": "https://localhost:8080/"
        },
        "id": "n2dAd8W6oLJV",
        "outputId": "482968ee-83e5-45b1-e4de-fb03f7ad425a"
      },
      "outputs": [
        {
          "output_type": "stream",
          "name": "stderr",
          "text": [
            "E\n",
            "======================================================================\n",
            "ERROR: test_boyermoore (__main__.TestMatchingArtificialReads)\n",
            "----------------------------------------------------------------------\n",
            "Traceback (most recent call last):\n",
            "  File \"<ipython-input-3-004db4221b98>\", line 8, in test_boyermoore\n",
            "    self.assertEqual(boyer_moore(p, p_bm, t), [1, 5, 7, 15], 'BoyerMoore Algorithm returned wrong match indices. Should be: [1, 5, 7, 15], values returned: {}'.format(boyer_moore(p, p_bm, t)))\n",
            "NameError: name 'boyer_moore' is not defined\n",
            "\n",
            "----------------------------------------------------------------------\n",
            "Ran 1 test in 0.006s\n",
            "\n",
            "FAILED (errors=1)\n"
          ]
        },
        {
          "output_type": "execute_result",
          "data": {
            "text/plain": [
              "<unittest.runner.TextTestResult run=1 errors=1 failures=0>"
            ]
          },
          "metadata": {},
          "execution_count": 8
        }
      ],
      "source": [
        "tests = TestMatchingArtificialReads()\n",
        "suite = unittest.TestSuite()\n",
        "suite.addTest(TestMatchingArtificialReads('test_boyermoore'))\n",
        "unittest.TextTestRunner().run(suite)"
      ]
    },
    {
      "cell_type": "code",
      "execution_count": null,
      "metadata": {
        "collapsed": true,
        "id": "ds0BvRL2oLJV"
      },
      "outputs": [],
      "source": [
        "t = 'GCTAGCTCTACGAGTCTA'\n",
        "p = 'CT'\n",
        "p_bm = BoyerMoore(p, alphabet='ACGT')"
      ]
    },
    {
      "cell_type": "code",
      "execution_count": null,
      "metadata": {
        "collapsed": true,
        "id": "lqBXyiP7oLJV"
      },
      "outputs": [],
      "source": [
        "boyer_moore(p, p_bm, t)"
      ]
    }
  ],
  "metadata": {
    "anaconda-cloud": {},
    "kernelspec": {
      "display_name": "Python 3",
      "language": "python",
      "name": "python3"
    },
    "language_info": {
      "codemirror_mode": {
        "name": "ipython",
        "version": 3
      },
      "file_extension": ".py",
      "mimetype": "text/x-python",
      "name": "python",
      "nbconvert_exporter": "python",
      "pygments_lexer": "ipython3",
      "version": "3.5.4"
    },
    "colab": {
      "provenance": []
    }
  },
  "nbformat": 4,
  "nbformat_minor": 0
}