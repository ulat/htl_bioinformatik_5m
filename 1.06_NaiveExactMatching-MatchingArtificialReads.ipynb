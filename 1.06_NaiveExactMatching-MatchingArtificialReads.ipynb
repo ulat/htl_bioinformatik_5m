{
  "cells": [
    {
      "cell_type": "code",
      "execution_count": null,
      "metadata": {
        "id": "oQsESXZnpPtv",
        "outputId": "a3f1f9a6-9c18-4e5b-af83-0e2bcac17a0f"
      },
      "outputs": [
        {
          "name": "stdout",
          "output_type": "stream",
          "text": [
            "--2017-12-14 11:01:37--  http://d28rh4a8wq0iu5.cloudfront.net/ads1/data/phix.fa\n",
            "Resolving d28rh4a8wq0iu5.cloudfront.net... 13.32.16.127, 13.32.16.28, 13.32.16.244, ...\n",
            "Connecting to d28rh4a8wq0iu5.cloudfront.net|13.32.16.127|:80... connected.\n",
            "HTTP request sent, awaiting response... 200 OK\n",
            "Length: 5528 (5.4K) [application/octet-stream]\n",
            "Saving to: ‘phix.fa’\n",
            "\n",
            "phix.fa             100%[===================>]   5.40K  --.-KB/s    in 0s      \n",
            "\n",
            "2017-12-14 11:01:37 (264 MB/s) - ‘phix.fa’ saved [5528/5528]\n",
            "\n"
          ]
        }
      ],
      "source": [
        "# Funktioniert nur unter ix-Betriebssystemen. Unter Windows muss die Datei manuell herunter-\n",
        "# geladen werden.\n",
        "!wget http://d28rh4a8wq0iu5.cloudfront.net/ads1/data/phix.fa"
      ]
    },
    {
      "cell_type": "code",
      "execution_count": null,
      "metadata": {
        "collapsed": true,
        "id": "kScby_3TpPtx"
      },
      "outputs": [],
      "source": [
        "def readGenome(filename):\n",
        "    \"\"\" Reads dna data from a given file\n",
        "    param: filename name of a fasta file\n",
        "    returns: dna data without the ids of the fasta file\n",
        "    rtype: string\n",
        "    \"\"\"\n",
        "    genome = ''\n",
        "\n",
        "    return genome"
      ]
    },
    {
      "cell_type": "code",
      "execution_count": null,
      "metadata": {
        "collapsed": true,
        "id": "KDNZeDX5pPtx"
      },
      "outputs": [],
      "source": [
        "def naive(p, t):\n",
        "    \"\"\"Implementation of a 'naive' pattern search in text t\n",
        "    param: p search-pattern\n",
        "    param: t text to search in\n",
        "    returns: list of occurences\n",
        "    \"\"\"\n",
        "    occurrences = []\n",
        "    return occurrences"
      ]
    },
    {
      "cell_type": "code",
      "execution_count": null,
      "metadata": {
        "collapsed": true,
        "id": "foM39_fLpPty"
      },
      "outputs": [],
      "source": [
        "import random\n",
        "def generateReads(genome, numReads, readLen):\n",
        "    \"\"\"Generate reads from random positions in the given genome.\n",
        "    param: genome dna data from which reads should be generated\n",
        "    param: numReads defines how many different reads are generated\n",
        "    param: readLen defines the length of each read\n",
        "    returns: list containing the generated reads\n",
        "    \"\"\"\n",
        "    reads = []\n",
        "\n",
        "    return reads"
      ]
    },
    {
      "cell_type": "code",
      "execution_count": null,
      "metadata": {
        "id": "2pJP39-4pPty",
        "outputId": "6d489fec-987b-41b1-f9cc-be7d45c666c1"
      },
      "outputs": [
        {
          "name": "stdout",
          "output_type": "stream",
          "text": [
            "100 / 100 reads matched the genome exactly!\n"
          ]
        }
      ],
      "source": [
        "# Generate 100 reads of length 100\n",
        "reads = generateReads(genome, 100, 100)\n",
        "\n",
        "# Count how many reads match the genome exactly\n",
        "numMatched = 0\n",
        "for r in reads:\n",
        "    matches = naive(r, genome)\n",
        "    if len(matches) > 0:\n",
        "        numMatched += 1\n",
        "# works, but \"old\" python style\n",
        "# print('%d / %d reads matched the genome exactly!' % (numMatched, len(reads)))\n",
        "# new pythonic way using formatted strings...\n",
        "print(f'{numMatched} / {len(reads)} reads matched the genome exactly!')"
      ]
    },
    {
      "cell_type": "code",
      "execution_count": null,
      "metadata": {
        "id": "Z_QLuhWppPty",
        "outputId": "5d8d4c86-f6e0-4d6f-8873-6f907a1a66a0"
      },
      "outputs": [
        {
          "name": "stderr",
          "output_type": "stream",
          "text": [
            "test_notebook (__main__.TestNotebook) ... ERROR\n",
            "\n",
            "======================================================================\n",
            "ERROR: test_notebook (__main__.TestNotebook)\n",
            "----------------------------------------------------------------------\n",
            "Traceback (most recent call last):\n",
            "  File \"<ipython-input-1-39adb061afac>\", line 8, in test_notebook\n",
            "    self.assertEqual(genome, readGenome('phix.fa'))\n",
            "NameError: name 'readGenome' is not defined\n",
            "\n",
            "----------------------------------------------------------------------\n",
            "Ran 1 test in 0.001s\n",
            "\n",
            "FAILED (errors=1)\n"
          ]
        },
        {
          "data": {
            "text/plain": [
              "<unittest.main.TestProgram at 0x1100a6860>"
            ]
          },
          "execution_count": 1,
          "metadata": {},
          "output_type": "execute_result"
        }
      ],
      "source": [
        "import pickle as pkl\n",
        "import unittest\n",
        "with open('1.06_vars.pkl', 'rb') as f:\n",
        "    genome  = pkl.load(f)\n",
        "\n",
        "class TestNotebook(unittest.TestCase):\n",
        "    def test_notebook(self):\n",
        "        self.assertEqual(genome, readGenome('phix.fa'))\n",
        "        self.assertEqual(naive('AG','AGCTTAGATAGC'), [0, 5, 9], 'Tested naive with parameters: p=\"AG\" and t=\"AGCTTAGATAGC\". Should return this list of occurences: [0, 5, 9]')\n",
        "        reads = generateReads(genome, 100, 100)\n",
        "        self.assertEqual(len(reads), 100, 'Generated wrong number of reads! Should be 100 is {}'.format(len(reads)))\n",
        "        self.assertEqual(numMatched, 100, 'NumMatched has wrong length. Should be 100 is {}'.format(numMatched))\n",
        "\n",
        "unittest.main(argv=[''], verbosity=2, exit=False)"
      ]
    },
    {
      "cell_type": "code",
      "execution_count": null,
      "metadata": {
        "id": "W2w3F0oepPtz"
      },
      "outputs": [],
      "source": []
    }
  ],
  "metadata": {
    "kernelspec": {
      "display_name": "Python 3",
      "language": "python",
      "name": "python3"
    },
    "language_info": {
      "codemirror_mode": {
        "name": "ipython",
        "version": 3
      },
      "file_extension": ".py",
      "mimetype": "text/x-python",
      "name": "python",
      "nbconvert_exporter": "python",
      "pygments_lexer": "ipython3",
      "version": "3.5.4"
    },
    "colab": {
      "provenance": []
    }
  },
  "nbformat": 4,
  "nbformat_minor": 0
}