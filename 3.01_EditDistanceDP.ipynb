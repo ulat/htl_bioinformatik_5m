{
  "cells": [
    {
      "cell_type": "markdown",
      "metadata": {
        "id": "Y_WxE0Pv9_7C"
      },
      "source": [
        "# Edit-Distance\n",
        "Implement a function to calculate the edit-distance between two given strings"
      ]
    },
    {
      "cell_type": "markdown",
      "metadata": {
        "id": "TfbupqJB9_7D"
      },
      "source": [
        "## First Attempt: Recursive Solution"
      ]
    },
    {
      "cell_type": "code",
      "execution_count": null,
      "metadata": {
        "id": "2WmD-c4n9_7E"
      },
      "outputs": [],
      "source": [
        "from collections import defaultdict\n",
        "n = 0\n",
        "x_y_pairs = defaultdict(int)\n",
        "def editDistRecursive(x: str, y: str) -> int:\n",
        "    \"\"\" Implement editdistance recursive\n",
        "    param x: first string\n",
        "    param y: second string\n",
        "    returns: editdistance between x and y\"\"\"\n",
        "    # This implementation is very slow\n",
        "    global n\n",
        "    global x_y_pairs\n",
        "    x_y_pairs[(x, y)] += 1\n",
        "    # This implementation is very slow\n",
        "    if x == 'shake' and y == 'Shake' :\n",
        "        n += 1\n",
        "    if len(x) == 0:\n",
        "        return len(y)\n",
        "    elif len(y) == 0:\n",
        "        return len(x)\n",
        "    else:\n",
        "        distHor = editDistRecursive(x[:-1], y) + 1\n",
        "        distVer = editDistRecursive(x, y[:-1]) + 1\n",
        "        if x[-1] == y[-1]:\n",
        "            distDiag = editDistRecursive(x[:-1], y[:-1])\n",
        "        else:\n",
        "            distDiag = editDistRecursive(x[:-1], y[:-1]) + 1\n",
        "        return min(distHor, distVer, distDiag)"
      ]
    },
    {
      "cell_type": "markdown",
      "metadata": {
        "id": "SBX5L2KC9_7F"
      },
      "source": [
        "## Second Attempt: Dynamic Programming"
      ]
    },
    {
      "cell_type": "code",
      "execution_count": null,
      "metadata": {
        "collapsed": true,
        "id": "rHk3stwK9_7F"
      },
      "outputs": [],
      "source": [
        "def editDistance(x: str, y: str) -> int:\n",
        "    \"\"\" Implement editdistance using a\n",
        "    param x: first string\n",
        "    param y: second string\n",
        "    returns: editdistance between x and y\"\"\"\n",
        "    # Create distance matrix\n",
        "    D = []\n",
        "\n",
        "\n",
        "    # Initialize first row and column of matrix\n",
        "\n",
        "    # Fill in the rest of the matrix\n",
        "\n",
        "    # Edit distance is the value in the bottom right corner of the matrix\n",
        "    return D[-1][-1]"
      ]
    },
    {
      "cell_type": "markdown",
      "metadata": {
        "id": "PQ6HjwO69_7F"
      },
      "source": [
        "# Comparing the Runtime of the two implementations\n",
        "You should see that the dynamic programming approach results in less computation time"
      ]
    },
    {
      "cell_type": "code",
      "execution_count": null,
      "metadata": {
        "id": "foPqEDtF9_7F",
        "outputId": "502dccb7-4a59-48c4-95c1-a6bf61e47eb2"
      },
      "outputs": [
        {
          "name": "stdout",
          "output_type": "stream",
          "text": [
            "CPU times: user 8.28 s, sys: 10.2 ms, total: 8.29 s\n",
            "Wall time: 8.3 s\n"
          ]
        }
      ],
      "source": [
        "%%time\n",
        "x = 'shake spea'\n",
        "y = 'Shakespear'\n",
        "editDistRecursive(x, y)"
      ]
    },
    {
      "cell_type": "code",
      "execution_count": null,
      "metadata": {
        "id": "wExwnQNh9_7G",
        "outputId": "585e3d68-b542-4ab9-848e-d1bf23322565"
      },
      "outputs": [
        {
          "data": {
            "text/plain": [
              "defaultdict(int,\n",
              "            {('', ''): 1462563,\n",
              "             ('', 'S'): 2060980,\n",
              "             ('', 'Sh'): 822560,\n",
              "             ('', 'Sha'): 299660,\n",
              "             ('', 'Shak'): 97880,\n",
              "             ('', 'Shake'): 28004,\n",
              "             ('', 'Shakes'): 6800,\n",
              "             ('', 'Shakesp'): 1340,\n",
              "             ('', 'Shakespe'): 200,\n",
              "             ('', 'Shakespea'): 20,\n",
              "             ('', 'Shakespear'): 1,\n",
              "             ('s', ''): 2060980,\n",
              "             ('s', 'S'): 1462563,\n",
              "             ('s', 'Sh'): 598417,\n",
              "             ('s', 'Sha'): 224143,\n",
              "             ('s', 'Shak'): 75517,\n",
              "             ('s', 'Shake'): 22363,\n",
              "             ('s', 'Shakes'): 5641,\n",
              "             ('s', 'Shakesp'): 1159,\n",
              "             ('s', 'Shakespe'): 181,\n",
              "             ('s', 'Shakespea'): 19,\n",
              "             ('s', 'Shakespear'): 1,\n",
              "             ('sh', ''): 822560,\n",
              "             ('sh', 'S'): 598417,\n",
              "             ('sh', 'Sh'): 265729,\n",
              "             ('sh', 'Sha'): 108545,\n",
              "             ('sh', 'Shak'): 40081,\n",
              "             ('sh', 'Shake'): 13073,\n",
              "             ('sh', 'Shakes'): 3649,\n",
              "             ('sh', 'Shakesp'): 833,\n",
              "             ('sh', 'Shakespe'): 145,\n",
              "             ('sh', 'Shakespea'): 17,\n",
              "             ('sh', 'Shakespear'): 1,\n",
              "             ('sha', ''): 299660,\n",
              "             ('sha', 'S'): 224143,\n",
              "             ('sha', 'Sh'): 108545,\n",
              "             ('sha', 'Sha'): 48639,\n",
              "             ('sha', 'Shak'): 19825,\n",
              "             ('sha', 'Shake'): 7183,\n",
              "             ('sha', 'Shakes'): 2241,\n",
              "             ('sha', 'Shakesp'): 575,\n",
              "             ('sha', 'Shakespe'): 113,\n",
              "             ('sha', 'Shakespea'): 15,\n",
              "             ('sha', 'Shakespear'): 1,\n",
              "             ('shak', ''): 97880,\n",
              "             ('shak', 'S'): 75517,\n",
              "             ('shak', 'Sh'): 40081,\n",
              "             ('shak', 'Sha'): 19825,\n",
              "             ('shak', 'Shak'): 8989,\n",
              "             ('shak', 'Shake'): 3653,\n",
              "             ('shak', 'Shakes'): 1289,\n",
              "             ('shak', 'Shakesp'): 377,\n",
              "             ('shak', 'Shakespe'): 85,\n",
              "             ('shak', 'Shakespea'): 13,\n",
              "             ('shak', 'Shakespear'): 1,\n",
              "             ('shake', ''): 28004,\n",
              "             ('shake', 'S'): 22363,\n",
              "             ('shake', 'Sh'): 13073,\n",
              "             ('shake', 'Sha'): 7183,\n",
              "             ('shake', 'Shak'): 3653,\n",
              "             ('shake', 'Shake'): 1683,\n",
              "             ('shake', 'Shakes'): 681,\n",
              "             ('shake', 'Shakesp'): 231,\n",
              "             ('shake', 'Shakespe'): 61,\n",
              "             ('shake', 'Shakespea'): 11,\n",
              "             ('shake', 'Shakespear'): 1,\n",
              "             ('shake ', ''): 6800,\n",
              "             ('shake ', 'S'): 5641,\n",
              "             ('shake ', 'Sh'): 3649,\n",
              "             ('shake ', 'Sha'): 2241,\n",
              "             ('shake ', 'Shak'): 1289,\n",
              "             ('shake ', 'Shake'): 681,\n",
              "             ('shake ', 'Shakes'): 321,\n",
              "             ('shake ', 'Shakesp'): 129,\n",
              "             ('shake ', 'Shakespe'): 41,\n",
              "             ('shake ', 'Shakespea'): 9,\n",
              "             ('shake ', 'Shakespear'): 1,\n",
              "             ('shake s', ''): 1340,\n",
              "             ('shake s', 'S'): 1159,\n",
              "             ('shake s', 'Sh'): 833,\n",
              "             ('shake s', 'Sha'): 575,\n",
              "             ('shake s', 'Shak'): 377,\n",
              "             ('shake s', 'Shake'): 231,\n",
              "             ('shake s', 'Shakes'): 129,\n",
              "             ('shake s', 'Shakesp'): 63,\n",
              "             ('shake s', 'Shakespe'): 25,\n",
              "             ('shake s', 'Shakespea'): 7,\n",
              "             ('shake s', 'Shakespear'): 1,\n",
              "             ('shake sp', ''): 200,\n",
              "             ('shake sp', 'S'): 181,\n",
              "             ('shake sp', 'Sh'): 145,\n",
              "             ('shake sp', 'Sha'): 113,\n",
              "             ('shake sp', 'Shak'): 85,\n",
              "             ('shake sp', 'Shake'): 61,\n",
              "             ('shake sp', 'Shakes'): 41,\n",
              "             ('shake sp', 'Shakesp'): 25,\n",
              "             ('shake sp', 'Shakespe'): 13,\n",
              "             ('shake sp', 'Shakespea'): 5,\n",
              "             ('shake sp', 'Shakespear'): 1,\n",
              "             ('shake spe', ''): 20,\n",
              "             ('shake spe', 'S'): 19,\n",
              "             ('shake spe', 'Sh'): 17,\n",
              "             ('shake spe', 'Sha'): 15,\n",
              "             ('shake spe', 'Shak'): 13,\n",
              "             ('shake spe', 'Shake'): 11,\n",
              "             ('shake spe', 'Shakes'): 9,\n",
              "             ('shake spe', 'Shakesp'): 7,\n",
              "             ('shake spe', 'Shakespe'): 5,\n",
              "             ('shake spe', 'Shakespea'): 3,\n",
              "             ('shake spe', 'Shakespear'): 1,\n",
              "             ('shake spea', ''): 1,\n",
              "             ('shake spea', 'S'): 1,\n",
              "             ('shake spea', 'Sh'): 1,\n",
              "             ('shake spea', 'Sha'): 1,\n",
              "             ('shake spea', 'Shak'): 1,\n",
              "             ('shake spea', 'Shake'): 1,\n",
              "             ('shake spea', 'Shakes'): 1,\n",
              "             ('shake spea', 'Shakesp'): 1,\n",
              "             ('shake spea', 'Shakespe'): 1,\n",
              "             ('shake spea', 'Shakespea'): 1,\n",
              "             ('shake spea', 'Shakespear'): 1})"
            ]
          },
          "execution_count": 8,
          "metadata": {},
          "output_type": "execute_result"
        }
      ],
      "source": [
        "x_y_pairs"
      ]
    },
    {
      "cell_type": "code",
      "execution_count": null,
      "metadata": {
        "id": "V2-STTlh9_7G",
        "outputId": "712a3ed9-bea2-40c8-b7a9-9fb639d8ac2a"
      },
      "outputs": [
        {
          "data": {
            "text/plain": [
              "1683"
            ]
          },
          "execution_count": 3,
          "metadata": {},
          "output_type": "execute_result"
        }
      ],
      "source": [
        "n"
      ]
    },
    {
      "cell_type": "code",
      "execution_count": null,
      "metadata": {
        "id": "rVZVxCjh9_7G",
        "outputId": "f4861370-797f-4342-d5ca-23ec51d230fe"
      },
      "outputs": [
        {
          "name": "stdout",
          "output_type": "stream",
          "text": [
            "CPU times: user 96 µs, sys: 4 µs, total: 100 µs\n",
            "Wall time: 103 µs\n"
          ]
        }
      ],
      "source": [
        "%%time\n",
        "x = 'shake spea'\n",
        "y = 'Shakespear'\n",
        "editDistance(x, y)"
      ]
    }
  ],
  "metadata": {
    "anaconda-cloud": {},
    "kernelspec": {
      "display_name": "Python 3",
      "language": "python",
      "name": "python3"
    },
    "language_info": {
      "codemirror_mode": {
        "name": "ipython",
        "version": 3
      },
      "file_extension": ".py",
      "mimetype": "text/x-python",
      "name": "python",
      "nbconvert_exporter": "python",
      "pygments_lexer": "ipython3",
      "version": "3.5.4"
    },
    "colab": {
      "provenance": []
    }
  },
  "nbformat": 4,
  "nbformat_minor": 0
}