{
  "cells": [
    {
      "cell_type": "markdown",
      "metadata": {
        "id": "jAY4QeCI-U_A"
      },
      "source": [
        "# Global Alignment"
      ]
    },
    {
      "cell_type": "code",
      "execution_count": null,
      "metadata": {
        "collapsed": true,
        "id": "Keh-QtCS-U_C"
      },
      "outputs": [],
      "source": [
        "alphabet = ['A', 'C', 'G', 'T']\n",
        "score = [[0, 4, 2, 4, 8],\n",
        "         [4, 0, 4, 2, 8],\n",
        "         [2, 4, 0, 4, 8],\n",
        "         [4, 2, 4, 0, 8],\n",
        "         [8, 8, 8, 8, 8]]"
      ]
    },
    {
      "cell_type": "code",
      "execution_count": null,
      "metadata": {
        "id": "hmol-29a-U_D",
        "outputId": "2625db5e-daaf-4298-ecf3-6bb13f144589"
      },
      "outputs": [
        {
          "data": {
            "text/plain": [
              "0"
            ]
          },
          "execution_count": 2,
          "metadata": {},
          "output_type": "execute_result"
        }
      ],
      "source": [
        "# converts from character to its offset in list alphabet\n",
        "alphabet.index('A')"
      ]
    },
    {
      "cell_type": "code",
      "execution_count": null,
      "metadata": {
        "id": "Qf1FXTJr-U_E",
        "outputId": "c48ea52a-e4ea-44f0-aa94-ee474e6adba3"
      },
      "outputs": [
        {
          "data": {
            "text/plain": [
              "2"
            ]
          },
          "execution_count": 3,
          "metadata": {},
          "output_type": "execute_result"
        }
      ],
      "source": [
        "alphabet.index('G')"
      ]
    },
    {
      "cell_type": "code",
      "execution_count": null,
      "metadata": {
        "id": "xbiAMGn_-U_F",
        "outputId": "8a4c6eba-ffa9-441c-c711-a1a3ad670485"
      },
      "outputs": [
        {
          "data": {
            "text/plain": [
              "4"
            ]
          },
          "execution_count": 4,
          "metadata": {},
          "output_type": "execute_result"
        }
      ],
      "source": [
        "# penalty associated with A (from X) mismatching with T (from Y)\n",
        "score[alphabet.index('A')][alphabet.index('T')]"
      ]
    },
    {
      "cell_type": "code",
      "execution_count": null,
      "metadata": {
        "id": "tkF3IePb-U_F",
        "outputId": "da43372d-1cc7-4215-9e7e-e11a0d488ed4"
      },
      "outputs": [
        {
          "data": {
            "text/plain": [
              "8"
            ]
          },
          "execution_count": 5,
          "metadata": {},
          "output_type": "execute_result"
        }
      ],
      "source": [
        "# penalty associated with C (from X) being deleted in Y\n",
        "score[alphabet.index('C')][-1]"
      ]
    },
    {
      "cell_type": "code",
      "execution_count": null,
      "metadata": {
        "collapsed": true,
        "id": "z1ufmo1Y-U_F"
      },
      "outputs": [],
      "source": [
        "def globalAlignment(x: str, y: str) -> int:\n",
        "    # Create distance matrix and initialize with 0s\n",
        "    D = []\n",
        "    for i in range(len(x)+1):\n",
        "        D.append([0] * (len(y)+1))\n",
        "\n",
        "    # Initialize first column\n",
        "\n",
        "    # Initialize first row\n",
        "\n",
        "\n",
        "    # Fill rest of the matrix\n",
        "\n",
        "\n",
        "    return D[-1][-1]  # return value in bottom right corner"
      ]
    },
    {
      "cell_type": "code",
      "execution_count": null,
      "metadata": {
        "id": "0E0l9aSC-U_G",
        "outputId": "70860423-5028-43eb-96df-5116a2d68013"
      },
      "outputs": [
        {
          "name": "stdout",
          "output_type": "stream",
          "text": [
            "12\n"
          ]
        }
      ],
      "source": [
        "x = 'TATGTCATGC'\n",
        "y = 'TATGGCAGC'\n",
        "print(globalAlignment(x,y))"
      ]
    }
  ],
  "metadata": {
    "anaconda-cloud": {},
    "kernelspec": {
      "display_name": "Python 3",
      "language": "python",
      "name": "python3"
    },
    "language_info": {
      "codemirror_mode": {
        "name": "ipython",
        "version": 3
      },
      "file_extension": ".py",
      "mimetype": "text/x-python",
      "name": "python",
      "nbconvert_exporter": "python",
      "pygments_lexer": "ipython3",
      "version": "3.5.4"
    },
    "colab": {
      "provenance": []
    }
  },
  "nbformat": 4,
  "nbformat_minor": 0
}