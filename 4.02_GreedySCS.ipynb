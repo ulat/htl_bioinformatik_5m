{
  "cells": [
    {
      "cell_type": "markdown",
      "metadata": {
        "id": "CO1fihoS-2D7"
      },
      "source": [
        "# Shortest Common Superstring Problem\n",
        "## Greedy Shortest Common Super String\n",
        "\n",
        "Greedy Algorithms decide at each stage which alternative reduces problem complexity most."
      ]
    },
    {
      "cell_type": "code",
      "execution_count": null,
      "metadata": {
        "collapsed": true,
        "id": "jwhV5oqN-2D9"
      },
      "outputs": [],
      "source": [
        "def overlap(a: str, b: str, min_length: str=3) -> int:\n",
        "    \"\"\" Return length of longest suffix of 'a' matching\n",
        "        a prefix of 'b' that is at least 'min_length'\n",
        "        characters long.  If no such overlap exists,\n",
        "        return 0. \"\"\"\n",
        "    # just copy from the last notebook"
      ]
    },
    {
      "cell_type": "code",
      "execution_count": null,
      "metadata": {
        "collapsed": true,
        "id": "-Kfpe1IO-2D-"
      },
      "outputs": [],
      "source": [
        "import itertools\n",
        "from typing import List\n",
        "\n",
        "def scs(ss: List) -> str:\n",
        "    \"\"\" Returns shortest common superstring of given strings,\n",
        "        assuming no string is a strict substring of another \"\"\"\n",
        "\n",
        "        sup = ssperm[0]  # superstring starts as first string\n",
        "\n",
        "            # overlap adjacent strings A and B in the permutation\n",
        "\n",
        "            # add non-overlapping portion of B to superstring\n",
        "\n",
        "\n",
        "\n",
        "\n",
        "    return shortest_sup  # return shortest"
      ]
    },
    {
      "cell_type": "code",
      "execution_count": null,
      "metadata": {
        "collapsed": true,
        "id": "UcJ1VXZ0-2D-"
      },
      "outputs": [],
      "source": [
        "from typing import Tuple\n",
        "def pick_maximal_overlap(reads: List[str], k: int) -> tuple:\n",
        "    \"\"\" Return a pair of reads from the list with a\n",
        "        maximal suffix/prefix overlap >= k.  Returns\n",
        "        overlap length 0 if there are no such overlaps.\"\"\"\n",
        "    reada, readb = None, None\n",
        "    best_olen = 0\n",
        "    for a, b in itertools.permutations(reads, 2):\n",
        "        olen = overlap(a, b, min_length=k)\n",
        "        if olen > best_olen:\n",
        "            reada, readb = a, b\n",
        "            best_olen = olen\n",
        "    return reada, readb, best_olen"
      ]
    },
    {
      "cell_type": "code",
      "execution_count": null,
      "metadata": {
        "collapsed": true,
        "id": "MwaJE1g5-2D_"
      },
      "outputs": [],
      "source": [
        "def greedy_scs(reads: List[str], k: int) -> str:\n",
        "    \"\"\" Greedy shortest-common-superstring merge.\n",
        "        Repeat until no edges (overlaps of length >= k)\n",
        "        remain. \"\"\"\n",
        "\n",
        "    return ''.join(reads)"
      ]
    },
    {
      "cell_type": "code",
      "execution_count": null,
      "metadata": {
        "id": "ABJeBJhI-2D_",
        "outputId": "976b3399-1c8a-4593-d36a-b43fa739a00c"
      },
      "outputs": [
        {
          "data": {
            "text/plain": [
              "'CABCA'"
            ]
          },
          "execution_count": 5,
          "metadata": {},
          "output_type": "execute_result"
        }
      ],
      "source": [
        "%%time\n",
        "greedy_scs(['ABC', 'BCA', 'CAB'], 2)"
      ]
    },
    {
      "cell_type": "code",
      "execution_count": null,
      "metadata": {
        "id": "ZDd-aDsj-2EA",
        "outputId": "bba01065-fa4a-45e7-a3a1-92b8131aec82"
      },
      "outputs": [
        {
          "data": {
            "text/plain": [
              "'CDBCABCDA'"
            ]
          },
          "execution_count": 6,
          "metadata": {},
          "output_type": "execute_result"
        }
      ],
      "source": [
        "%%time\n",
        "greedy_scs(['ABCD', 'CDBC', 'BCDA'], 1)"
      ]
    },
    {
      "cell_type": "code",
      "execution_count": null,
      "metadata": {
        "id": "eyi78zBo-2EA",
        "outputId": "15e21040-afc8-40ff-d21f-5930d7159283"
      },
      "outputs": [
        {
          "data": {
            "text/plain": [
              "'ABCDBCDA'"
            ]
          },
          "execution_count": 7,
          "metadata": {},
          "output_type": "execute_result"
        }
      ],
      "source": [
        "%%time\n",
        "scs(['ABCD', 'CDBC', 'BCDA'])"
      ]
    }
  ],
  "metadata": {
    "kernelspec": {
      "display_name": "Python 2",
      "language": "python",
      "name": "python2"
    },
    "language_info": {
      "codemirror_mode": {
        "name": "ipython",
        "version": 2
      },
      "file_extension": ".py",
      "mimetype": "text/x-python",
      "name": "python",
      "nbconvert_exporter": "python",
      "pygments_lexer": "ipython2",
      "version": "2.7.12"
    },
    "colab": {
      "provenance": []
    }
  },
  "nbformat": 4,
  "nbformat_minor": 0
}